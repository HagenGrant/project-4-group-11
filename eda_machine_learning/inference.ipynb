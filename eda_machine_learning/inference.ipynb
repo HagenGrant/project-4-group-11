{
 "cells": [
  {
   "cell_type": "code",
   "execution_count": 1,
   "id": "e0dea86a-091a-4f84-98f8-9c0cf9f34c4d",
   "metadata": {},
   "outputs": [],
   "source": [
    "import pandas as pd\n",
    "import pickle\n",
    "import numpy as np"
   ]
  },
  {
   "cell_type": "code",
   "execution_count": 2,
   "id": "22e0ae32-07af-4516-8df6-be723d982b69",
   "metadata": {},
   "outputs": [],
   "source": [
    "def makePredictions2(country, amount_usd, transaction_type, industry, destination_country, reported_by_authority,\n",
    "                    money_laundering_risk_score, shell_companies_involved, tax_haven_country, month):\n",
    "\n",
    "    df = pd.DataFrame()\n",
    "    df[\"country\"] = [country]\n",
    "    df[\"amount_usd\"] = [amount_usd]\n",
    "    df[\"transaction_type\"] = [transaction_type]\n",
    "    df[\"industry\"] = [industry]\n",
    "    df[\"destination_country\"] = [destination_country]\n",
    "    df[\"reported_by_authority\"] = [reported_by_authority]\n",
    "    df[\"money_laundering_risk_score\"] = [money_laundering_risk_score]\n",
    "    df[\"shell_companies_involved\"] = [shell_companies_involved]\n",
    "    df[\"tax_haven_country\"] = [tax_haven_country]\n",
    "    df[\"month\"] = [month]\n",
    "    \n",
    "    # model\n",
    "    model = pickle.load(open(\"black_money_model_pipeline.h5\", 'rb'))\n",
    "    \n",
    "    # columns in order\n",
    "    df = df.loc[:, ['country', 'amount_usd', 'transaction_type', 'industry', 'destination_country', 'reported_by_authority',\n",
    "                   'money_laundering_risk_score', 'shell_companies_involved', 'tax_haven_country', 'month']]\n",
    "    \n",
    "    preds = model.predict_proba(df)\n",
    "    return(preds[0][1])"
   ]
  },
  {
   "cell_type": "code",
   "execution_count": 3,
   "id": "4ec6f9a2-062a-4282-bb67-ca5c8410465f",
   "metadata": {},
   "outputs": [
    {
     "data": {
      "text/plain": [
       "0.85"
      ]
     },
     "execution_count": 3,
     "metadata": {},
     "output_type": "execute_result"
    }
   ],
   "source": [
    "country = \"brazil\" \n",
    "amount_usd = '12' \n",
    "transaction_type = 'Offshore Transfer' \n",
    "industry = \"Casino\" \n",
    "destination_country = \"Brazil\" \n",
    "reported_by_authority = False\n",
    "money_laundering_risk_score = 10 \n",
    "shell_companies_involved = 6 \n",
    "tax_haven_country = \"Panama\"\n",
    "month = 1\n",
    "\n",
    "\n",
    "makePredictions2(country, amount_usd, transaction_type, industry, destination_country, reported_by_authority,\n",
    "                    money_laundering_risk_score, shell_companies_involved, tax_haven_country, month)"
   ]
  },
  {
   "cell_type": "code",
   "execution_count": null,
   "id": "0e3a510c-b3df-40d0-b607-eb74bb3b9537",
   "metadata": {},
   "outputs": [],
   "source": []
  },
  {
   "cell_type": "code",
   "execution_count": null,
   "id": "e3491954-fafe-4698-b7a8-ca2ef079315a",
   "metadata": {},
   "outputs": [],
   "source": []
  },
  {
   "cell_type": "code",
   "execution_count": null,
   "id": "c57d6866-d87f-483c-a08d-073d8508549c",
   "metadata": {},
   "outputs": [],
   "source": []
  },
  {
   "cell_type": "code",
   "execution_count": null,
   "id": "2db7daca-8bea-4fa8-81f8-8f6865c98963",
   "metadata": {},
   "outputs": [],
   "source": []
  },
  {
   "cell_type": "code",
   "execution_count": null,
   "id": "c4351128-6607-4228-b599-f7a38a2bf064",
   "metadata": {},
   "outputs": [],
   "source": []
  },
  {
   "cell_type": "code",
   "execution_count": null,
   "id": "a897cb59-929c-41e8-a725-6ff5fa7c5129",
   "metadata": {},
   "outputs": [],
   "source": []
  },
  {
   "cell_type": "code",
   "execution_count": null,
   "id": "6fda9fb3-4a76-4485-9ab8-fcb29604e3d2",
   "metadata": {},
   "outputs": [],
   "source": []
  },
  {
   "cell_type": "code",
   "execution_count": null,
   "id": "58eff28e-ebef-4fd9-8466-f405adc260b0",
   "metadata": {},
   "outputs": [],
   "source": []
  },
  {
   "cell_type": "code",
   "execution_count": null,
   "id": "eaa06d06-08b0-47fc-8b94-9eff14a41b2c",
   "metadata": {},
   "outputs": [],
   "source": []
  },
  {
   "cell_type": "code",
   "execution_count": null,
   "id": "10d78710-19de-4589-bc88-d8373edc294d",
   "metadata": {},
   "outputs": [],
   "source": []
  },
  {
   "cell_type": "code",
   "execution_count": null,
   "id": "8011cdd8-d8c6-44d6-bcb1-603cad3b7d85",
   "metadata": {},
   "outputs": [],
   "source": []
  },
  {
   "cell_type": "code",
   "execution_count": null,
   "id": "358bbb77-2c96-4021-a5b2-6d095bb7c849",
   "metadata": {},
   "outputs": [],
   "source": []
  },
  {
   "cell_type": "code",
   "execution_count": null,
   "id": "f2a536bf-1d08-4b69-9400-8174754086ab",
   "metadata": {},
   "outputs": [],
   "source": []
  },
  {
   "cell_type": "code",
   "execution_count": null,
   "id": "7a4da2c7-fc88-4ff3-b9b8-2ec5fc224341",
   "metadata": {},
   "outputs": [],
   "source": []
  }
 ],
 "metadata": {
  "kernelspec": {
   "display_name": "Python 3 (ipykernel)",
   "language": "python",
   "name": "python3"
  },
  "language_info": {
   "codemirror_mode": {
    "name": "ipython",
    "version": 3
   },
   "file_extension": ".py",
   "mimetype": "text/x-python",
   "name": "python",
   "nbconvert_exporter": "python",
   "pygments_lexer": "ipython3",
   "version": "3.10.14"
  }
 },
 "nbformat": 4,
 "nbformat_minor": 5
}
